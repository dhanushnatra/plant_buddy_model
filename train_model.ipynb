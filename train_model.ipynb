{
 "cells": [
  {
   "cell_type": "code",
   "execution_count": null,
   "id": "83c21e47",
   "metadata": {},
   "outputs": [
    {
     "data": {
      "text/plain": [
       "['Corn_(maize)___Common_rust_',\n",
       " 'Corn_(maize)___healthy',\n",
       " 'Potato___Early_blight',\n",
       " 'Potato___Late_blight',\n",
       " 'Potato___healthy',\n",
       " 'Tomato___Bacterial_spot',\n",
       " 'Tomato___Early_blight',\n",
       " 'Tomato___Late_blight',\n",
       " 'Tomato___Leaf_Mold',\n",
       " 'Tomato___Septoria_leaf_spot',\n",
       " 'Tomato___Target_Spot',\n",
       " 'Tomato___healthy']"
      ]
     },
     "execution_count": 14,
     "metadata": {},
     "output_type": "execute_result"
    }
   ],
   "source": [
    "import torch\n",
    "import torch.nn as nn\n",
    "import warnings\n",
    "warnings.filterwarnings(\"ignore\")\n",
    "import torch.optim as optim\n",
    "from torchvision import transforms, datasets, models\n",
    "\n",
    "transform= transforms.Compose([\n",
    "    transforms.Resize((224, 224)),\n",
    "    transforms.ToTensor(),\n",
    "    transforms.Normalize(mean=[0.485, 0.456, 0.406],\n",
    "                            std=[0.229, 0.224, 0.225])\n",
    "\n",
    "])\n",
    "train_loader = torch.utils.data.DataLoader(train_dataset, batch_size=32, shuffle=True)\n"
   ]
  },
  {
   "cell_type": "code",
   "execution_count": null,
   "id": "7882b479",
   "metadata": {},
   "outputs": [],
   "source": [
    "model=nn.Sequential(\n",
    "    models.resnet18(pretrained=True),\n",
    "    nn.Linear(1000, 512),\n",
    "    nn.ReLU(),\n",
    "    nn.Linear(512, 38),\n",
    "    nn.LogSoftmax(dim=1)\n",
    ")\n",
    "device = torch.device(\"cuda\" if torch.cuda.is_available() else \"cpu\")\n",
    "model.to(device)\n",
    "criterion = nn.NLLLoss()\n",
    "optimizer = optim.Adam(model.parameters(), lr=0.001)\n",
    "num_epochs = 3\n"
   ]
  },
  {
   "cell_type": "code",
   "execution_count": null,
   "id": "3423c8b5",
   "metadata": {},
   "outputs": [
    {
     "name": "stdout",
     "output_type": "stream",
     "text": [
      "Epoch [1/3], Loss: 0.4357\n",
      "Epoch [2/3], Loss: 0.2056\n",
      "Epoch [3/3], Loss: 0.1424\n"
     ]
    }
   ],
   "source": [
    "# for epoch in range(num_epochs):\n",
    "#     running_loss = 0.0\n",
    "#     for images, labels in train_loader:\n",
    "#         images, labels = images.to(device), labels.to(device)\n",
    "#         optimizer.zero_grad()\n",
    "#         outputs = model(images)\n",
    "#         loss = criterion(outputs, labels)\n",
    "#         loss.backward()\n",
    "#         optimizer.step()\n",
    "#         running_loss += loss.item()\n",
    "#     torch.save(model.state_dict(), f'plant_disease_model_epoch{epoch}.pth')\n",
    "#     print(f\"Epoch [{epoch+1}/{num_epochs}], Loss: {running_loss/len(train_loader):.4f}\")"
   ]
  },
  {
   "cell_type": "code",
   "execution_count": 18,
   "id": "4af6aaee",
   "metadata": {},
   "outputs": [
    {
     "name": "stdout",
     "output_type": "stream",
     "text": [
      "Predicted class: 10\n",
      "Predicted class name: Tomato___Target_Spot\n"
     ]
    }
   ],
   "source": [
    "\n",
    "from PIL import Image\n",
    "\n",
    "import torch\n",
    "from torchvision import transforms\n",
    "from torchvision import models\n",
    "import torch.nn as nn\n",
    "\n",
    "transform= transforms.Compose([\n",
    "    transforms.Resize((224, 224)),\n",
    "    transforms.ToTensor(),\n",
    "    transforms.Normalize(mean=[0.485, 0.456, 0.406],\n",
    "                            std=[0.229, 0.224, 0.225])\n",
    "\n",
    "])\n",
    "\n",
    "\n",
    "model_loaded = nn.Sequential(\n",
    "    models.resnet18(pretrained=True),\n",
    "    nn.Linear(1000, 512), \n",
    "    nn.ReLU(),\n",
    "    nn.Linear(512, 38),\n",
    "    nn.LogSoftmax(dim=1)\n",
    ")\n",
    "\n",
    "device = torch.device(\"cuda\" if torch.cuda.is_available() else \"cpu\")\n",
    "# Move model to the correct device\n",
    "model_loaded.to(device)\n",
    "# Load the saved model weights\n",
    "model_loaded.load_state_dict(torch.load('plant_disease_model_epoch2.pth', map_location=device))\n",
    "model_loaded.eval()\n",
    "\n",
    "train_dataset = datasets.ImageFolder('data/train', transform=transform)\n",
    "import pickle\n",
    "with open('train_dataset_classes.pkl', 'wb') as f:\n",
    "    pickle.dump(train_dataset.classes, f)\n",
    "\n",
    "\n",
    "# Load and preprocess the image\n",
    "img_path = 'data/train/Tomato___Target_Spot/0a458dfc-b513-44f2-a3ce-dab4c3adb939___Com.G_TgS_FL 8166_new30degFlipLR.JPG'\n",
    "img = Image.open(img_path).convert('RGB')\n",
    "img_tensor = transform(img).unsqueeze(0).to(device)\n",
    "\n",
    "# Load model weights\n",
    "# model.load_state_dict(torch.load('plant_disease_model_epoch2.pth'))\n",
    "# model.eval()\n",
    "\n",
    "# Predict\n",
    "classes = train_dataset.classes\n",
    "with torch.no_grad():\n",
    "    output = model_loaded(img_tensor)\n",
    "    pred = output.argmax(dim=1)\n",
    "print(f\"Predicted class: {pred.item()}\")\n",
    "print(f\"Predicted class name: {classes[pred.item()]}\")"
   ]
  },
  {
   "cell_type": "code",
   "execution_count": null,
   "id": "b5991ffc",
   "metadata": {},
   "outputs": [],
   "source": []
  }
 ],
 "metadata": {
  "kernelspec": {
   "display_name": "env",
   "language": "python",
   "name": "python3"
  },
  "language_info": {
   "codemirror_mode": {
    "name": "ipython",
    "version": 3
   },
   "file_extension": ".py",
   "mimetype": "text/x-python",
   "name": "python",
   "nbconvert_exporter": "python",
   "pygments_lexer": "ipython3",
   "version": "3.12.3"
  }
 },
 "nbformat": 4,
 "nbformat_minor": 5
}
