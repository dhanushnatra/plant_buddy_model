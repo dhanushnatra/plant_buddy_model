{
 "cells": [
  {
   "cell_type": "code",
   "execution_count": 1,
   "id": "83c21e47",
   "metadata": {},
   "outputs": [],
   "source": [
    "import torch\n",
    "import torch.nn as nn\n",
    "import warnings\n",
    "warnings.filterwarnings(\"ignore\")\n",
    "import torch.optim as optim\n",
    "from torchvision import transforms, datasets, models\n",
    "\n",
    "transform= transforms.Compose([\n",
    "    transforms.Resize((224, 224)),\n",
    "    transforms.ToTensor(),\n",
    "    transforms.Normalize(mean=[0.485, 0.456, 0.406],\n",
    "                            std=[0.229, 0.224, 0.225])\n",
    "\n",
    "])\n",
    "train_dataset = datasets.ImageFolder('data/train', transform=transform)\n",
    "train_loader = torch.utils.data.DataLoader(train_dataset, batch_size=32, shuffle=True)\n"
   ]
  },
  {
   "cell_type": "code",
   "execution_count": 2,
   "id": "7882b479",
   "metadata": {},
   "outputs": [],
   "source": [
    "model=nn.Sequential(\n",
    "    models.resnet18(pretrained=True),\n",
    "    nn.Linear(1000, 512),\n",
    "    nn.ReLU(),\n",
    "    nn.Linear(512, 38),\n",
    "    nn.LogSoftmax(dim=1)\n",
    ")\n",
    "device = torch.device(\"cuda\" if torch.cuda.is_available() else \"cpu\")\n",
    "model.to(device)\n",
    "criterion = nn.NLLLoss()\n",
    "optimizer = optim.Adam(model.parameters(), lr=0.001)\n",
    "num_epochs = 3\n"
   ]
  },
  {
   "cell_type": "code",
   "execution_count": 3,
   "id": "3423c8b5",
   "metadata": {},
   "outputs": [
    {
     "name": "stdout",
     "output_type": "stream",
     "text": [
      "Epoch [1/3], Loss: 0.4357\n",
      "Epoch [2/3], Loss: 0.2056\n",
      "Epoch [3/3], Loss: 0.1424\n"
     ]
    }
   ],
   "source": [
    "for epoch in range(num_epochs):\n",
    "    running_loss = 0.0\n",
    "    for images, labels in train_loader:\n",
    "        images, labels = images.to(device), labels.to(device)\n",
    "        \n",
    "        optimizer.zero_grad()\n",
    "        outputs = model(images)\n",
    "        loss = criterion(outputs, labels)\n",
    "        loss.backward()\n",
    "        optimizer.step()\n",
    "        running_loss += loss.item()\n",
    "    torch.save(model.state_dict(), f'plant_disease_model_epoch{epoch}.pth')\n",
    "    print(f\"Epoch [{epoch+1}/{num_epochs}], Loss: {running_loss/len(train_loader):.4f}\")"
   ]
  },
  {
   "cell_type": "code",
   "execution_count": 10,
   "id": "4af6aaee",
   "metadata": {},
   "outputs": [
    {
     "name": "stdout",
     "output_type": "stream",
     "text": [
      "Predicted class: 6\n",
      "Predicted class name: Tomato___Early_blight\n"
     ]
    }
   ],
   "source": [
    "import pickle\n",
    "# Save the model architecture and weights\n",
    "with open('plant_disease_model.pkl', 'wb') as f:\n",
    "    pickle.dump(model, f)\n",
    "from PIL import Image\n",
    "\n",
    "# Import model from local storage\n",
    "model_loaded = model\n",
    "model_loaded.load_state_dict(torch.load('plant_disease_model_epoch2.pth'))\n",
    "model_loaded.eval()\n",
    "\n",
    "# Save the model\n",
    "\n",
    "# Load and preprocess the image\n",
    "img_path = 'data/train/Tomato___Early_blight/0e03c87e-b43f-4cfe-a837-71306c68f4c0___RS_Erly.B 7733.JPG'\n",
    "img = Image.open(img_path).convert('RGB')\n",
    "img_tensor = transform(img).unsqueeze(0).to(device)\n",
    "\n",
    "# Load model weights\n",
    "# model.load_state_dict(torch.load('plant_disease_model_epoch2.pth'))\n",
    "# model.eval()\n",
    "\n",
    "# Predict\n",
    "classes = train_dataset.classes\n",
    "with torch.no_grad():\n",
    "    output = model_loaded(img_tensor)\n",
    "    pred = output.argmax(dim=1)\n",
    "print(f\"Predicted class: {pred.item()}\")\n",
    "print(f\"Predicted class name: {classes[pred.item()]}\")"
   ]
  },
  {
   "cell_type": "code",
   "execution_count": null,
   "id": "b5991ffc",
   "metadata": {},
   "outputs": [],
   "source": []
  }
 ],
 "metadata": {
  "kernelspec": {
   "display_name": "env",
   "language": "python",
   "name": "python3"
  },
  "language_info": {
   "codemirror_mode": {
    "name": "ipython",
    "version": 3
   },
   "file_extension": ".py",
   "mimetype": "text/x-python",
   "name": "python",
   "nbconvert_exporter": "python",
   "pygments_lexer": "ipython3",
   "version": "3.12.3"
  }
 },
 "nbformat": 4,
 "nbformat_minor": 5
}
